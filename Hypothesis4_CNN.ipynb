{
 "cells": [
  {
   "cell_type": "code",
   "execution_count": 1,
   "id": "85de4476",
   "metadata": {},
   "outputs": [],
   "source": [
    "import pandas as pd\n",
    "import numpy as np\n",
    "import matplotlib.pyplot as plt\n",
    "\n",
    "from keras.preprocessing import sequence\n",
    "from keras.models import Sequential\n",
    "from keras.layers import Input, Embedding, Conv1D, GlobalMaxPooling1D, Flatten, concatenate, Dense, Dropout, Lambda\n",
    "from keras.metrics import Precision, Recall, AUC\n",
    "from keras.callbacks import EarlyStopping, ModelCheckpoint\n",
    "\n",
    "import tensorflow as tf \n",
    "from tensorflow.keras.models import Model,load_model\n",
    "from tensorflow.keras.optimizers import Adam, SGD"
   ]
  },
  {
   "cell_type": "code",
   "execution_count": 2,
   "id": "403fcbad",
   "metadata": {},
   "outputs": [],
   "source": [
    "df = pd.read_csv('masterdata.csv')"
   ]
  },
  {
   "cell_type": "code",
   "execution_count": 3,
   "id": "4e9668b5",
   "metadata": {},
   "outputs": [],
   "source": [
    "df = df.drop(columns = ['Unnamed: 0', 'category', 'label', 'text_', 'lang', 'cleaned_text'])"
   ]
  },
  {
   "cell_type": "code",
   "execution_count": 4,
   "id": "dbd7132b",
   "metadata": {},
   "outputs": [
    {
     "data": {
      "text/html": [
       "<div>\n",
       "<style scoped>\n",
       "    .dataframe tbody tr th:only-of-type {\n",
       "        vertical-align: middle;\n",
       "    }\n",
       "\n",
       "    .dataframe tbody tr th {\n",
       "        vertical-align: top;\n",
       "    }\n",
       "\n",
       "    .dataframe thead th {\n",
       "        text-align: right;\n",
       "    }\n",
       "</style>\n",
       "<table border=\"1\" class=\"dataframe\">\n",
       "  <thead>\n",
       "    <tr style=\"text-align: right;\">\n",
       "      <th></th>\n",
       "      <th>rating</th>\n",
       "      <th>review_length</th>\n",
       "      <th>end_with_punc</th>\n",
       "      <th>clean_text</th>\n",
       "      <th>target</th>\n",
       "      <th>category_Books_5</th>\n",
       "      <th>category_Clothing_Shoes_and_Jewelry_5</th>\n",
       "      <th>category_Electronics_5</th>\n",
       "      <th>category_Home_and_Kitchen_5</th>\n",
       "      <th>category_Kindle_Store_5</th>\n",
       "      <th>category_Movies_and_TV_5</th>\n",
       "      <th>category_Pet_Supplies_5</th>\n",
       "      <th>category_Sports_and_Outdoors_5</th>\n",
       "      <th>category_Tools_and_Home_Improvement_5</th>\n",
       "      <th>category_Toys_and_Games_5</th>\n",
       "    </tr>\n",
       "  </thead>\n",
       "  <tbody>\n",
       "    <tr>\n",
       "      <th>0</th>\n",
       "      <td>5.0</td>\n",
       "      <td>12</td>\n",
       "      <td>0</td>\n",
       "      <td>love this well made sturdy and very comfortabl...</td>\n",
       "      <td>1</td>\n",
       "      <td>0.0</td>\n",
       "      <td>0.0</td>\n",
       "      <td>0.0</td>\n",
       "      <td>1.0</td>\n",
       "      <td>0.0</td>\n",
       "      <td>0.0</td>\n",
       "      <td>0.0</td>\n",
       "      <td>0.0</td>\n",
       "      <td>0.0</td>\n",
       "      <td>0.0</td>\n",
       "    </tr>\n",
       "    <tr>\n",
       "      <th>1</th>\n",
       "      <td>5.0</td>\n",
       "      <td>16</td>\n",
       "      <td>0</td>\n",
       "      <td>love it a great upgrade from the original ive ...</td>\n",
       "      <td>1</td>\n",
       "      <td>0.0</td>\n",
       "      <td>0.0</td>\n",
       "      <td>0.0</td>\n",
       "      <td>1.0</td>\n",
       "      <td>0.0</td>\n",
       "      <td>0.0</td>\n",
       "      <td>0.0</td>\n",
       "      <td>0.0</td>\n",
       "      <td>0.0</td>\n",
       "      <td>0.0</td>\n",
       "    </tr>\n",
       "    <tr>\n",
       "      <th>2</th>\n",
       "      <td>5.0</td>\n",
       "      <td>14</td>\n",
       "      <td>1</td>\n",
       "      <td>this pillow saved my back i love the look and ...</td>\n",
       "      <td>1</td>\n",
       "      <td>0.0</td>\n",
       "      <td>0.0</td>\n",
       "      <td>0.0</td>\n",
       "      <td>1.0</td>\n",
       "      <td>0.0</td>\n",
       "      <td>0.0</td>\n",
       "      <td>0.0</td>\n",
       "      <td>0.0</td>\n",
       "      <td>0.0</td>\n",
       "      <td>0.0</td>\n",
       "    </tr>\n",
       "    <tr>\n",
       "      <th>3</th>\n",
       "      <td>1.0</td>\n",
       "      <td>17</td>\n",
       "      <td>0</td>\n",
       "      <td>missing information on how to use it but it is...</td>\n",
       "      <td>1</td>\n",
       "      <td>0.0</td>\n",
       "      <td>0.0</td>\n",
       "      <td>0.0</td>\n",
       "      <td>1.0</td>\n",
       "      <td>0.0</td>\n",
       "      <td>0.0</td>\n",
       "      <td>0.0</td>\n",
       "      <td>0.0</td>\n",
       "      <td>0.0</td>\n",
       "      <td>0.0</td>\n",
       "    </tr>\n",
       "    <tr>\n",
       "      <th>4</th>\n",
       "      <td>5.0</td>\n",
       "      <td>18</td>\n",
       "      <td>0</td>\n",
       "      <td>very nice set good quality we have had the set...</td>\n",
       "      <td>1</td>\n",
       "      <td>0.0</td>\n",
       "      <td>0.0</td>\n",
       "      <td>0.0</td>\n",
       "      <td>1.0</td>\n",
       "      <td>0.0</td>\n",
       "      <td>0.0</td>\n",
       "      <td>0.0</td>\n",
       "      <td>0.0</td>\n",
       "      <td>0.0</td>\n",
       "      <td>0.0</td>\n",
       "    </tr>\n",
       "  </tbody>\n",
       "</table>\n",
       "</div>"
      ],
      "text/plain": [
       "   rating  review_length  end_with_punc  \\\n",
       "0     5.0             12              0   \n",
       "1     5.0             16              0   \n",
       "2     5.0             14              1   \n",
       "3     1.0             17              0   \n",
       "4     5.0             18              0   \n",
       "\n",
       "                                          clean_text  target  \\\n",
       "0  love this well made sturdy and very comfortabl...       1   \n",
       "1  love it a great upgrade from the original ive ...       1   \n",
       "2  this pillow saved my back i love the look and ...       1   \n",
       "3  missing information on how to use it but it is...       1   \n",
       "4  very nice set good quality we have had the set...       1   \n",
       "\n",
       "   category_Books_5  category_Clothing_Shoes_and_Jewelry_5  \\\n",
       "0               0.0                                    0.0   \n",
       "1               0.0                                    0.0   \n",
       "2               0.0                                    0.0   \n",
       "3               0.0                                    0.0   \n",
       "4               0.0                                    0.0   \n",
       "\n",
       "   category_Electronics_5  category_Home_and_Kitchen_5  \\\n",
       "0                     0.0                          1.0   \n",
       "1                     0.0                          1.0   \n",
       "2                     0.0                          1.0   \n",
       "3                     0.0                          1.0   \n",
       "4                     0.0                          1.0   \n",
       "\n",
       "   category_Kindle_Store_5  category_Movies_and_TV_5  category_Pet_Supplies_5  \\\n",
       "0                      0.0                       0.0                      0.0   \n",
       "1                      0.0                       0.0                      0.0   \n",
       "2                      0.0                       0.0                      0.0   \n",
       "3                      0.0                       0.0                      0.0   \n",
       "4                      0.0                       0.0                      0.0   \n",
       "\n",
       "   category_Sports_and_Outdoors_5  category_Tools_and_Home_Improvement_5  \\\n",
       "0                             0.0                                    0.0   \n",
       "1                             0.0                                    0.0   \n",
       "2                             0.0                                    0.0   \n",
       "3                             0.0                                    0.0   \n",
       "4                             0.0                                    0.0   \n",
       "\n",
       "   category_Toys_and_Games_5  \n",
       "0                        0.0  \n",
       "1                        0.0  \n",
       "2                        0.0  \n",
       "3                        0.0  \n",
       "4                        0.0  "
      ]
     },
     "execution_count": 4,
     "metadata": {},
     "output_type": "execute_result"
    }
   ],
   "source": [
    "df.head()"
   ]
  },
  {
   "cell_type": "code",
   "execution_count": 10,
   "id": "aa9955db",
   "metadata": {},
   "outputs": [
    {
     "data": {
      "text/plain": [
       "39.0"
      ]
     },
     "execution_count": 10,
     "metadata": {},
     "output_type": "execute_result"
    }
   ],
   "source": [
    "df.review_length.median()"
   ]
  },
  {
   "cell_type": "code",
   "execution_count": 11,
   "id": "e72bb324",
   "metadata": {},
   "outputs": [
    {
     "name": "stdout",
     "output_type": "stream",
     "text": [
      "20513\n",
      "19849\n"
     ]
    }
   ],
   "source": [
    "df_short = df[df.review_length<=39]\n",
    "df_long = df[df.review_length>39]\n",
    "\n",
    "print(len(df_short))\n",
    "print(len(df_long))"
   ]
  },
  {
   "cell_type": "markdown",
   "id": "523e4186",
   "metadata": {},
   "source": [
    "### Short Reviews"
   ]
  },
  {
   "cell_type": "code",
   "execution_count": 12,
   "id": "c3f1fd85",
   "metadata": {},
   "outputs": [],
   "source": [
    "from sklearn.model_selection import train_test_split\n",
    "\n",
    "X=df_short.drop('target', axis=1)\n",
    "y=df_short.target.values\n",
    "\n",
    "X_train, X_test, y_train, y_test = train_test_split(X, y, test_size=0.2, shuffle=True)"
   ]
  },
  {
   "cell_type": "code",
   "execution_count": 13,
   "id": "1403bf46",
   "metadata": {},
   "outputs": [],
   "source": [
    "from keras.preprocessing.text import Tokenizer\n",
    "\n",
    "tokenizer = Tokenizer(num_words=5000)\n",
    "tokenizer.fit_on_texts(X_train['clean_text'])\n",
    "\n",
    "X_train_text = tokenizer.texts_to_sequences(X_train['clean_text'])\n",
    "X_test_text = tokenizer.texts_to_sequences(X_test['clean_text'])\n",
    "\n",
    "vocab_size = len(tokenizer.word_index) + 1  # Adding 1 because of reserved 0 index"
   ]
  },
  {
   "cell_type": "code",
   "execution_count": 14,
   "id": "bf1e4698",
   "metadata": {},
   "outputs": [],
   "source": [
    "from keras.preprocessing.sequence import pad_sequences\n",
    "\n",
    "maxlen = 100\n",
    "\n",
    "X_train_text = pad_sequences(X_train_text, padding='post', maxlen=maxlen)\n",
    "X_test_text = pad_sequences(X_test_text, padding='post', maxlen=maxlen)"
   ]
  },
  {
   "cell_type": "code",
   "execution_count": 15,
   "id": "8c3a0654",
   "metadata": {},
   "outputs": [],
   "source": [
    "X_train_num = X_train.drop(columns=['clean_text']) # drop the original clean_text textual data\n",
    "X_test_num = X_test.drop(columns=['clean_text'])"
   ]
  },
  {
   "cell_type": "code",
   "execution_count": 16,
   "id": "77e9ddad",
   "metadata": {},
   "outputs": [
    {
     "name": "stdout",
     "output_type": "stream",
     "text": [
      "(16410, 100)\n",
      "(16410, 13)\n"
     ]
    }
   ],
   "source": [
    "print(X_train_text.shape)\n",
    "print(X_train_num.shape)"
   ]
  },
  {
   "cell_type": "code",
   "execution_count": 17,
   "id": "65602356",
   "metadata": {},
   "outputs": [],
   "source": [
    "X_train_concat = np.hstack((X_train_text, X_train_num.to_numpy()))\n",
    "X_test_concat = np.hstack((X_test_text, X_test_num.to_numpy()))"
   ]
  },
  {
   "cell_type": "code",
   "execution_count": 18,
   "id": "b8ad70d8",
   "metadata": {},
   "outputs": [],
   "source": [
    "import numpy as np\n",
    "\n",
    "def create_embedding_matrix(filepath, word_index, embedding_dim):\n",
    "    vocab_size = len(word_index) + 1  # Adding again 1 because of reserved 0 index\n",
    "    embedding_matrix = np.zeros((vocab_size, embedding_dim))\n",
    "\n",
    "    with open(filepath, encoding=\"utf8\") as f:\n",
    "        for line in f:\n",
    "            word, *vector = line.split()\n",
    "            if word in word_index:\n",
    "                idx = word_index[word] \n",
    "                embedding_matrix[idx] = np.array(\n",
    "                    vector, dtype=np.float32)[:embedding_dim]\n",
    "\n",
    "    return embedding_matrix"
   ]
  },
  {
   "cell_type": "code",
   "execution_count": 19,
   "id": "d4a70474",
   "metadata": {},
   "outputs": [
    {
     "name": "stdout",
     "output_type": "stream",
     "text": [
      "Model: \"model\"\n",
      "__________________________________________________________________________________________________\n",
      "Layer (type)                    Output Shape         Param #     Connected to                     \n",
      "==================================================================================================\n",
      "input_1 (InputLayer)            [(None, 113)]        0                                            \n",
      "__________________________________________________________________________________________________\n",
      "lambda (Lambda)                 (None, 100)          0           input_1[0][0]                    \n",
      "__________________________________________________________________________________________________\n",
      "embedding (Embedding)           (None, 100, 100)     1349900     lambda[0][0]                     \n",
      "__________________________________________________________________________________________________\n",
      "conv1d (Conv1D)                 (None, 94, 128)      89728       embedding[0][0]                  \n",
      "__________________________________________________________________________________________________\n",
      "global_max_pooling1d (GlobalMax (None, 128)          0           conv1d[0][0]                     \n",
      "__________________________________________________________________________________________________\n",
      "lambda_1 (Lambda)               (None, 13)           0           input_1[0][0]                    \n",
      "__________________________________________________________________________________________________\n",
      "concatenate (Concatenate)       (None, 141)          0           global_max_pooling1d[0][0]       \n",
      "                                                                 lambda_1[0][0]                   \n",
      "__________________________________________________________________________________________________\n",
      "dropout (Dropout)               (None, 141)          0           concatenate[0][0]                \n",
      "__________________________________________________________________________________________________\n",
      "dense (Dense)                   (None, 32)           4544        dropout[0][0]                    \n",
      "__________________________________________________________________________________________________\n",
      "dropout_1 (Dropout)             (None, 32)           0           dense[0][0]                      \n",
      "__________________________________________________________________________________________________\n",
      "dense_1 (Dense)                 (None, 16)           528         dropout_1[0][0]                  \n",
      "__________________________________________________________________________________________________\n",
      "dropout_2 (Dropout)             (None, 16)           0           dense_1[0][0]                    \n",
      "__________________________________________________________________________________________________\n",
      "dense_2 (Dense)                 (None, 1)            17          dropout_2[0][0]                  \n",
      "==================================================================================================\n",
      "Total params: 1,444,717\n",
      "Trainable params: 1,444,717\n",
      "Non-trainable params: 0\n",
      "__________________________________________________________________________________________________\n",
      "Epoch 1/50\n",
      "206/206 - 6s - loss: 0.6998 - accuracy: 0.5558 - auc: 0.5783 - precision: 0.5825 - recall: 0.6151 - val_loss: 0.5545 - val_accuracy: 0.7489 - val_auc: 0.8829 - val_precision: 0.6956 - val_recall: 0.9312\n",
      "\n",
      "Epoch 00001: val_loss improved from inf to 0.55446, saving model to CNN_short.hdf5\n",
      "Epoch 2/50\n",
      "206/206 - 5s - loss: 0.4628 - accuracy: 0.7824 - auc: 0.8624 - precision: 0.7879 - recall: 0.8148 - val_loss: 0.2987 - val_accuracy: 0.8732 - val_auc: 0.9479 - val_precision: 0.8729 - val_recall: 0.8890\n",
      "\n",
      "Epoch 00002: val_loss improved from 0.55446 to 0.29869, saving model to CNN_short.hdf5\n",
      "Epoch 3/50\n",
      "206/206 - 5s - loss: 0.2997 - accuracy: 0.8826 - auc: 0.9458 - precision: 0.8939 - recall: 0.8871 - val_loss: 0.2499 - val_accuracy: 0.8912 - val_auc: 0.9640 - val_precision: 0.9337 - val_recall: 0.8543\n",
      "\n",
      "Epoch 00003: val_loss improved from 0.29869 to 0.24991, saving model to CNN_short.hdf5\n",
      "Epoch 4/50\n",
      "206/206 - 5s - loss: 0.2159 - accuracy: 0.9207 - auc: 0.9718 - precision: 0.9282 - recall: 0.9241 - val_loss: 0.2514 - val_accuracy: 0.8976 - val_auc: 0.9697 - val_precision: 0.8657 - val_recall: 0.9538\n",
      "\n",
      "Epoch 00004: val_loss did not improve from 0.24991\n",
      "Epoch 5/50\n",
      "206/206 - 5s - loss: 0.1615 - accuracy: 0.9401 - auc: 0.9840 - precision: 0.9454 - recall: 0.9431 - val_loss: 0.2622 - val_accuracy: 0.8937 - val_auc: 0.9707 - val_precision: 0.8550 - val_recall: 0.9613\n",
      "\n",
      "Epoch 00005: val_loss did not improve from 0.24991\n",
      "Epoch 6/50\n",
      "206/206 - 5s - loss: 0.1325 - accuracy: 0.9528 - auc: 0.9889 - precision: 0.9547 - recall: 0.9578 - val_loss: 0.2472 - val_accuracy: 0.9062 - val_auc: 0.9696 - val_precision: 0.9335 - val_recall: 0.8850\n",
      "\n",
      "Epoch 00006: val_loss improved from 0.24991 to 0.24719, saving model to CNN_short.hdf5\n",
      "Epoch 7/50\n",
      "206/206 - 5s - loss: 0.0908 - accuracy: 0.9676 - auc: 0.9941 - precision: 0.9704 - recall: 0.9694 - val_loss: 0.3108 - val_accuracy: 0.9031 - val_auc: 0.9684 - val_precision: 0.8735 - val_recall: 0.9543\n",
      "\n",
      "Epoch 00007: val_loss did not improve from 0.24719\n",
      "Epoch 8/50\n",
      "206/206 - 6s - loss: 0.0759 - accuracy: 0.9724 - auc: 0.9960 - precision: 0.9740 - recall: 0.9748 - val_loss: 0.3026 - val_accuracy: 0.9116 - val_auc: 0.9671 - val_precision: 0.9332 - val_recall: 0.8965\n",
      "\n",
      "Epoch 00008: val_loss did not improve from 0.24719\n",
      "Epoch 9/50\n",
      "206/206 - 6s - loss: 0.0559 - accuracy: 0.9819 - auc: 0.9972 - precision: 0.9841 - recall: 0.9822 - val_loss: 0.3378 - val_accuracy: 0.9025 - val_auc: 0.9636 - val_precision: 0.9336 - val_recall: 0.8775\n",
      "\n",
      "Epoch 00009: val_loss did not improve from 0.24719\n",
      "Epoch 10/50\n",
      "206/206 - 6s - loss: 0.0508 - accuracy: 0.9824 - auc: 0.9978 - precision: 0.9832 - recall: 0.9841 - val_loss: 0.3235 - val_accuracy: 0.9077 - val_auc: 0.9644 - val_precision: 0.9175 - val_recall: 0.9064\n",
      "\n",
      "Epoch 00010: val_loss did not improve from 0.24719\n",
      "Epoch 11/50\n",
      "206/206 - 7s - loss: 0.0434 - accuracy: 0.9856 - auc: 0.9985 - precision: 0.9853 - recall: 0.9880 - val_loss: 0.5082 - val_accuracy: 0.8915 - val_auc: 0.9555 - val_precision: 0.9680 - val_recall: 0.8214\n",
      "\n",
      "Epoch 00011: val_loss did not improve from 0.24719\n",
      "Epoch 12/50\n",
      "206/206 - 6s - loss: 0.0388 - accuracy: 0.9869 - auc: 0.9985 - precision: 0.9881 - recall: 0.9875 - val_loss: 0.3819 - val_accuracy: 0.9101 - val_auc: 0.9604 - val_precision: 0.9198 - val_recall: 0.9087\n",
      "\n",
      "Epoch 00012: val_loss did not improve from 0.24719\n",
      "Epoch 13/50\n",
      "206/206 - 6s - loss: 0.0358 - accuracy: 0.9876 - auc: 0.9989 - precision: 0.9884 - recall: 0.9885 - val_loss: 0.5458 - val_accuracy: 0.9022 - val_auc: 0.9464 - val_precision: 0.8729 - val_recall: 0.9532\n",
      "\n",
      "Epoch 00013: val_loss did not improve from 0.24719\n",
      "Epoch 14/50\n",
      "206/206 - 5s - loss: 0.0294 - accuracy: 0.9894 - auc: 0.9991 - precision: 0.9902 - recall: 0.9901 - val_loss: 0.4813 - val_accuracy: 0.9098 - val_auc: 0.9510 - val_precision: 0.8953 - val_recall: 0.9387\n",
      "\n",
      "Epoch 00014: val_loss did not improve from 0.24719\n",
      "Epoch 15/50\n",
      "206/206 - 5s - loss: 0.0216 - accuracy: 0.9928 - auc: 0.9994 - precision: 0.9935 - recall: 0.9932 - val_loss: 0.4637 - val_accuracy: 0.9080 - val_auc: 0.9543 - val_precision: 0.9089 - val_recall: 0.9173\n",
      "\n",
      "Epoch 00015: val_loss did not improve from 0.24719\n",
      "Epoch 16/50\n",
      "206/206 - 6s - loss: 0.0234 - accuracy: 0.9928 - auc: 0.9993 - precision: 0.9926 - recall: 0.9941 - val_loss: 0.4492 - val_accuracy: 0.9068 - val_auc: 0.9590 - val_precision: 0.9198 - val_recall: 0.9017\n",
      "\n",
      "Epoch 00016: val_loss did not improve from 0.24719\n"
     ]
    }
   ],
   "source": [
    "emb_matrix = create_embedding_matrix(\"glove.6B.100d.txt\", tokenizer.word_index, 100)\n",
    "\n",
    "combi_input = Input((113,))\n",
    "text_input = Lambda(lambda x: x[:, :100])(combi_input)\n",
    "num_input = Lambda(lambda x: x[:, 100:])(combi_input)\n",
    "emb = (Embedding(input_dim=vocab_size, \n",
    "                output_dim=100, \n",
    "                weights=[emb_matrix], \n",
    "                input_length=100,\n",
    "                trainable=True))(text_input)\n",
    "\n",
    "text_output = Conv1D(128, 7)(emb)\n",
    "text_output = GlobalMaxPooling1D()(text_output)\n",
    "concat = concatenate([text_output, num_input])\n",
    "\n",
    "dropout1 = Dropout(0.3)(concat)\n",
    "dense1 = Dense(32, activation='relu')(dropout1)\n",
    "dropout2 = Dropout(0.3)(dense1)\n",
    "dense2 = Dense(16, activation='relu')(dropout2)                     \n",
    "dropout3 = Dropout(0.3)(dense2)     \n",
    "output = Dense(1, activation='sigmoid')(dropout3)\n",
    "\n",
    "CNN = Model(inputs=[combi_input], outputs=[output])\n",
    "CNN.compile(loss='binary_crossentropy',\n",
    "            optimizer=Adam(0.001),\n",
    "            metrics=['accuracy', AUC(name='auc'), Precision(name='precision') , Recall(name='recall')])\n",
    "CNN.summary()\n",
    "\n",
    "es = EarlyStopping(monitor='val_loss', \n",
    "               mode='min', \n",
    "               patience=10)\n",
    "\n",
    "mc = ModelCheckpoint('CNN_short.hdf5', \n",
    "                 monitor='val_loss',\n",
    "                 mode='min',\n",
    "                 verbose=1, \n",
    "                 save_best_only=True)\n",
    "callbacks = [es, mc]\n",
    "\n",
    "history = CNN.fit(X_train_concat, y_train,\n",
    "                    epochs=50,\n",
    "                    verbose=2,\n",
    "                    validation_split=0.2,\n",
    "                    batch_size=64,\n",
    "                 callbacks = callbacks)"
   ]
  },
  {
   "cell_type": "code",
   "execution_count": 20,
   "id": "688ff86c",
   "metadata": {},
   "outputs": [
    {
     "data": {
      "text/plain": [
       "<matplotlib.legend.Legend at 0x1eaada052e0>"
      ]
     },
     "execution_count": 20,
     "metadata": {},
     "output_type": "execute_result"
    },
    {
     "data": {
      "image/png": "[encoded data removed]",
      "text/plain": [
       "<Figure size 1080x432 with 2 Axes>"
      ]
     },
     "metadata": {
      "needs_background": "light"
     },
     "output_type": "display_data"
    }
   ],
   "source": [
    "fig, (ax1, ax2) = plt.subplots(1, 2, figsize=(15, 6))\n",
    "fig.suptitle('CNN Performance - Short Reviews')\n",
    "\n",
    "ax1.plot(history.history['loss'], label='Loss (training data)')\n",
    "ax1.plot(history.history['val_loss'], label='Loss (validation data)')\n",
    "ax1.set_title('CNN Model for Short Reviews: Loss')\n",
    "ax1.set_ylabel('Loss')\n",
    "ax1.set_xlabel('No. epoch')\n",
    "ax1.legend(loc=\"upper right\")\n",
    "\n",
    "ax2.plot(history.history['accuracy'], label='Accuracy (training data)')\n",
    "ax2.plot(history.history['val_accuracy'], label='Accuracy (validation data)')\n",
    "ax2.set_title('CNN Model for Short Reviews: Accuracy')\n",
    "ax2.set_ylabel('Accuracy')\n",
    "ax2.set_xlabel('No. epoch')\n",
    "ax2.legend(loc=\"lower right\")"
   ]
  },
  {
   "cell_type": "code",
   "execution_count": 21,
   "id": "13c8cd11",
   "metadata": {},
   "outputs": [
    {
     "name": "stdout",
     "output_type": "stream",
     "text": [
      "Training Accuracy:  96.2645%\n",
      "Precisiony: 99.3952%\n",
      "Recall: 97.9482%\n",
      "F1 Score: 98.6664%\n",
      "Area under Curve: 95.0182%\n"
     ]
    }
   ],
   "source": [
    "model_short = load_model('CNN_short.hdf5')\n",
    "\n",
    "loss, accuracy, precision, recall, auc = model_short.evaluate(X_train_concat, y_train, verbose=False)\n",
    "print(\"Training Accuracy:  {:.4f}%\".format(accuracy*100))\n",
    "print(\"Precisiony: {:.4f}%\".format(precision*100))\n",
    "print(\"Recall: {:.4f}%\".format(recall*100))\n",
    "f1 = 2*(precision*recall)/(precision+recall)\n",
    "print(\"F1 Score: {:.4f}%\".format(f1*100))\n",
    "print(\"Area under Curve: {:.4f}%\".format(auc*100))"
   ]
  },
  {
   "cell_type": "code",
   "execution_count": 22,
   "id": "ace98b1e",
   "metadata": {},
   "outputs": [
    {
     "name": "stdout",
     "output_type": "stream",
     "text": [
      "Testing Accuracy:  90.2998%\n",
      "Precisiony: 96.5273%\n",
      "Recall: 92.6158%\n",
      "F1 Score: 94.5311%\n",
      "Area under Curve: 88.6784%\n"
     ]
    }
   ],
   "source": [
    "loss, accuracy, precision, recall, auc = model_short.evaluate(X_test_concat, y_test, verbose=False)\n",
    "print(\"Testing Accuracy:  {:.4f}%\".format(accuracy*100))\n",
    "print(\"Precisiony: {:.4f}%\".format(precision*100))\n",
    "print(\"Recall: {:.4f}%\".format(recall*100))\n",
    "f1 = 2*(precision*recall)/(precision+recall)\n",
    "print(\"F1 Score: {:.4f}%\".format(f1*100))\n",
    "print(\"Area under Curve: {:.4f}%\".format(auc*100))"
   ]
  },
  {
   "cell_type": "markdown",
   "id": "5784dee5",
   "metadata": {},
   "source": [
    "### Long Reviews"
   ]
  },
  {
   "cell_type": "code",
   "execution_count": 23,
   "id": "97a51774",
   "metadata": {},
   "outputs": [],
   "source": [
    "from sklearn.model_selection import train_test_split\n",
    "\n",
    "X=df_long.drop('target', axis=1)\n",
    "y=df_long.target.values\n",
    "\n",
    "X_train, X_test, y_train, y_test = train_test_split(X, y, test_size=0.2, shuffle=True)"
   ]
  },
  {
   "cell_type": "code",
   "execution_count": 24,
   "id": "813df86b",
   "metadata": {},
   "outputs": [],
   "source": [
    "from keras.preprocessing.text import Tokenizer\n",
    "\n",
    "tokenizer = Tokenizer(num_words=5000)\n",
    "tokenizer.fit_on_texts(X_train['clean_text'])\n",
    "\n",
    "X_train_text = tokenizer.texts_to_sequences(X_train['clean_text'])\n",
    "X_test_text = tokenizer.texts_to_sequences(X_test['clean_text'])\n",
    "\n",
    "vocab_size = len(tokenizer.word_index) + 1  # Adding 1 because of reserved 0 index"
   ]
  },
  {
   "cell_type": "code",
   "execution_count": 25,
   "id": "b0cb37e2",
   "metadata": {},
   "outputs": [],
   "source": [
    "from keras.preprocessing.sequence import pad_sequences\n",
    "\n",
    "maxlen = 100\n",
    "\n",
    "X_train_text = pad_sequences(X_train_text, padding='post', maxlen=maxlen)\n",
    "X_test_text = pad_sequences(X_test_text, padding='post', maxlen=maxlen)"
   ]
  },
  {
   "cell_type": "code",
   "execution_count": 26,
   "id": "389e15bf",
   "metadata": {},
   "outputs": [],
   "source": [
    "X_train_num = X_train.drop(columns=['clean_text']) # drop the original clean_text textual data\n",
    "X_test_num = X_test.drop(columns=['clean_text'])"
   ]
  },
  {
   "cell_type": "code",
   "execution_count": 27,
   "id": "ae75612e",
   "metadata": {},
   "outputs": [
    {
     "name": "stdout",
     "output_type": "stream",
     "text": [
      "(15879, 100)\n",
      "(15879, 13)\n"
     ]
    }
   ],
   "source": [
    "print(X_train_text.shape)\n",
    "print(X_train_num.shape)"
   ]
  },
  {
   "cell_type": "code",
   "execution_count": 29,
   "id": "570db87a",
   "metadata": {},
   "outputs": [],
   "source": [
    "X_train_concat = np.hstack((X_train_text, X_train_num.to_numpy()))\n",
    "X_test_concat = np.hstack((X_test_text, X_test_num.to_numpy()))"
   ]
  },
  {
   "cell_type": "code",
   "execution_count": 30,
   "id": "480fdd0b",
   "metadata": {},
   "outputs": [
    {
     "name": "stdout",
     "output_type": "stream",
     "text": [
      "Model: \"model_2\"\n",
      "__________________________________________________________________________________________________\n",
      "Layer (type)                    Output Shape         Param #     Connected to                     \n",
      "==================================================================================================\n",
      "input_3 (InputLayer)            [(None, 113)]        0                                            \n",
      "__________________________________________________________________________________________________\n",
      "lambda_4 (Lambda)               (None, 100)          0           input_3[0][0]                    \n",
      "__________________________________________________________________________________________________\n",
      "embedding_2 (Embedding)         (None, 100, 100)     3514500     lambda_4[0][0]                   \n",
      "__________________________________________________________________________________________________\n",
      "conv1d_2 (Conv1D)               (None, 94, 128)      89728       embedding_2[0][0]                \n",
      "__________________________________________________________________________________________________\n",
      "global_max_pooling1d_2 (GlobalM (None, 128)          0           conv1d_2[0][0]                   \n",
      "__________________________________________________________________________________________________\n",
      "lambda_5 (Lambda)               (None, 13)           0           input_3[0][0]                    \n",
      "__________________________________________________________________________________________________\n",
      "concatenate_2 (Concatenate)     (None, 141)          0           global_max_pooling1d_2[0][0]     \n",
      "                                                                 lambda_5[0][0]                   \n",
      "__________________________________________________________________________________________________\n",
      "dropout_6 (Dropout)             (None, 141)          0           concatenate_2[0][0]              \n",
      "__________________________________________________________________________________________________\n",
      "dense_6 (Dense)                 (None, 32)           4544        dropout_6[0][0]                  \n",
      "__________________________________________________________________________________________________\n",
      "dropout_7 (Dropout)             (None, 32)           0           dense_6[0][0]                    \n",
      "__________________________________________________________________________________________________\n",
      "dense_7 (Dense)                 (None, 16)           528         dropout_7[0][0]                  \n",
      "__________________________________________________________________________________________________\n",
      "dropout_8 (Dropout)             (None, 16)           0           dense_7[0][0]                    \n",
      "__________________________________________________________________________________________________\n",
      "dense_8 (Dense)                 (None, 1)            17          dropout_8[0][0]                  \n",
      "==================================================================================================\n",
      "Total params: 3,609,317\n",
      "Trainable params: 3,609,317\n",
      "Non-trainable params: 0\n",
      "__________________________________________________________________________________________________\n",
      "Epoch 1/50\n",
      "199/199 - 9s - loss: 1.3914 - accuracy: 0.5158 - auc: 0.5220 - precision: 0.4793 - recall: 0.4608 - val_loss: 0.6854 - val_accuracy: 0.5249 - val_auc: 0.5873 - val_precision: 0.4911 - val_recall: 0.9623\n",
      "\n",
      "Epoch 00001: val_loss improved from inf to 0.68535, saving model to CNN_long.hdf5\n",
      "Epoch 2/50\n",
      "199/199 - 7s - loss: 0.6940 - accuracy: 0.5396 - auc: 0.5485 - precision: 0.5131 - recall: 0.2226 - val_loss: 0.6834 - val_accuracy: 0.5812 - val_auc: 0.5966 - val_precision: 0.7735 - val_recall: 0.1241\n",
      "\n",
      "Epoch 00002: val_loss improved from 0.68535 to 0.68337, saving model to CNN_long.hdf5\n",
      "Epoch 3/50\n",
      "199/199 - 7s - loss: 0.6733 - accuracy: 0.5710 - auc: 0.5995 - precision: 0.5871 - recall: 0.2661 - val_loss: 0.6155 - val_accuracy: 0.6933 - val_auc: 0.8641 - val_precision: 0.9276 - val_recall: 0.3601\n",
      "\n",
      "Epoch 00003: val_loss improved from 0.68337 to 0.61545, saving model to CNN_long.hdf5\n",
      "Epoch 4/50\n",
      "199/199 - 7s - loss: 0.5667 - accuracy: 0.6950 - auc: 0.7690 - precision: 0.7169 - recall: 0.5705 - val_loss: 0.3131 - val_accuracy: 0.9112 - val_auc: 0.9723 - val_precision: 0.9279 - val_recall: 0.8745\n",
      "\n",
      "Epoch 00004: val_loss improved from 0.61545 to 0.31305, saving model to CNN_long.hdf5\n",
      "Epoch 5/50\n",
      "199/199 - 7s - loss: 0.3236 - accuracy: 0.8718 - auc: 0.9360 - precision: 0.8947 - recall: 0.8213 - val_loss: 0.1499 - val_accuracy: 0.9452 - val_auc: 0.9872 - val_precision: 0.9471 - val_recall: 0.9328\n",
      "\n",
      "Epoch 00005: val_loss improved from 0.31305 to 0.14990, saving model to CNN_long.hdf5\n",
      "Epoch 6/50\n",
      "199/199 - 7s - loss: 0.2066 - accuracy: 0.9158 - auc: 0.9728 - precision: 0.9428 - recall: 0.8720 - val_loss: 0.1466 - val_accuracy: 0.9452 - val_auc: 0.9913 - val_precision: 0.9871 - val_recall: 0.8923\n",
      "\n",
      "Epoch 00006: val_loss improved from 0.14990 to 0.14660, saving model to CNN_long.hdf5\n",
      "Epoch 7/50\n",
      "199/199 - 7s - loss: 0.1411 - accuracy: 0.9466 - auc: 0.9871 - precision: 0.9662 - recall: 0.9175 - val_loss: 0.1379 - val_accuracy: 0.9506 - val_auc: 0.9911 - val_precision: 0.9243 - val_recall: 0.9719\n",
      "\n",
      "Epoch 00007: val_loss improved from 0.14660 to 0.13787, saving model to CNN_long.hdf5\n",
      "Epoch 8/50\n",
      "199/199 - 7s - loss: 0.0929 - accuracy: 0.9658 - auc: 0.9937 - precision: 0.9769 - recall: 0.9491 - val_loss: 0.1459 - val_accuracy: 0.9525 - val_auc: 0.9901 - val_precision: 0.9809 - val_recall: 0.9143\n",
      "\n",
      "Epoch 00008: val_loss did not improve from 0.13787\n",
      "Epoch 9/50\n",
      "199/199 - 7s - loss: 0.0641 - accuracy: 0.9758 - auc: 0.9970 - precision: 0.9848 - recall: 0.9628 - val_loss: 0.1378 - val_accuracy: 0.9610 - val_auc: 0.9889 - val_precision: 0.9550 - val_recall: 0.9602\n",
      "\n",
      "Epoch 00009: val_loss improved from 0.13787 to 0.13782, saving model to CNN_long.hdf5\n",
      "Epoch 10/50\n",
      "199/199 - 7s - loss: 0.0464 - accuracy: 0.9812 - auc: 0.9982 - precision: 0.9896 - recall: 0.9697 - val_loss: 0.1914 - val_accuracy: 0.9581 - val_auc: 0.9813 - val_precision: 0.9804 - val_recall: 0.9273\n",
      "\n",
      "Epoch 00010: val_loss did not improve from 0.13782\n",
      "Epoch 11/50\n",
      "199/199 - 7s - loss: 0.0283 - accuracy: 0.9903 - auc: 0.9991 - precision: 0.9939 - recall: 0.9853 - val_loss: 0.1904 - val_accuracy: 0.9550 - val_auc: 0.9832 - val_precision: 0.9404 - val_recall: 0.9630\n",
      "\n",
      "Epoch 00011: val_loss did not improve from 0.13782\n",
      "Epoch 12/50\n",
      "199/199 - 7s - loss: 0.0266 - accuracy: 0.9911 - auc: 0.9991 - precision: 0.9927 - recall: 0.9882 - val_loss: 0.2226 - val_accuracy: 0.9531 - val_auc: 0.9816 - val_precision: 0.9873 - val_recall: 0.9095\n",
      "\n",
      "Epoch 00012: val_loss did not improve from 0.13782\n",
      "Epoch 13/50\n",
      "199/199 - 7s - loss: 0.0264 - accuracy: 0.9917 - auc: 0.9992 - precision: 0.9920 - recall: 0.9900 - val_loss: 0.2740 - val_accuracy: 0.9613 - val_auc: 0.9737 - val_precision: 0.9813 - val_recall: 0.9335\n",
      "\n",
      "Epoch 00013: val_loss did not improve from 0.13782\n",
      "Epoch 14/50\n",
      "199/199 - 7s - loss: 0.0143 - accuracy: 0.9960 - auc: 0.9995 - precision: 0.9959 - recall: 0.9954 - val_loss: 0.2841 - val_accuracy: 0.9613 - val_auc: 0.9744 - val_precision: 0.9744 - val_recall: 0.9403\n",
      "\n",
      "Epoch 00014: val_loss did not improve from 0.13782\n",
      "Epoch 15/50\n",
      "199/199 - 7s - loss: 0.0135 - accuracy: 0.9965 - auc: 0.9994 - precision: 0.9966 - recall: 0.9958 - val_loss: 0.2171 - val_accuracy: 0.9641 - val_auc: 0.9810 - val_precision: 0.9628 - val_recall: 0.9588\n",
      "\n",
      "Epoch 00015: val_loss did not improve from 0.13782\n",
      "Epoch 16/50\n",
      "199/199 - 7s - loss: 0.0177 - accuracy: 0.9950 - auc: 0.9993 - precision: 0.9963 - recall: 0.9931 - val_loss: 0.2531 - val_accuracy: 0.9628 - val_auc: 0.9774 - val_precision: 0.9614 - val_recall: 0.9575\n",
      "\n",
      "Epoch 00016: val_loss did not improve from 0.13782\n",
      "Epoch 17/50\n",
      "199/199 - 7s - loss: 0.0069 - accuracy: 0.9978 - auc: 1.0000 - precision: 0.9985 - recall: 0.9968 - val_loss: 0.3856 - val_accuracy: 0.9506 - val_auc: 0.9718 - val_precision: 0.9243 - val_recall: 0.9719\n",
      "\n",
      "Epoch 00017: val_loss did not improve from 0.13782\n",
      "Epoch 18/50\n",
      "199/199 - 7s - loss: 0.0029 - accuracy: 0.9993 - auc: 1.0000 - precision: 0.9995 - recall: 0.9990 - val_loss: 0.4061 - val_accuracy: 0.9562 - val_auc: 0.9723 - val_precision: 0.9429 - val_recall: 0.9630\n",
      "\n",
      "Epoch 00018: val_loss did not improve from 0.13782\n",
      "Epoch 19/50\n"
     ]
    },
    {
     "name": "stdout",
     "output_type": "stream",
     "text": [
      "199/199 - 7s - loss: 0.0108 - accuracy: 0.9969 - auc: 0.9996 - precision: 0.9968 - recall: 0.9966 - val_loss: 0.3593 - val_accuracy: 0.9512 - val_auc: 0.9729 - val_precision: 0.9239 - val_recall: 0.9739\n",
      "\n",
      "Epoch 00019: val_loss did not improve from 0.13782\n"
     ]
    }
   ],
   "source": [
    "emb_matrix = create_embedding_matrix(\"glove.6B.100d.txt\", tokenizer.word_index, 100)\n",
    "\n",
    "combi_input = Input((113,))\n",
    "text_input = Lambda(lambda x: x[:, :100])(combi_input)\n",
    "num_input = Lambda(lambda x: x[:, 100:])(combi_input)\n",
    "emb = (Embedding(input_dim=vocab_size, \n",
    "                output_dim=100, \n",
    "                weights=[emb_matrix], \n",
    "                input_length=100,\n",
    "                trainable=True))(text_input)\n",
    "\n",
    "text_output = Conv1D(128, 7)(emb)\n",
    "text_output = GlobalMaxPooling1D()(text_output)\n",
    "concat = concatenate([text_output, num_input])\n",
    "\n",
    "dropout1 = Dropout(0.3)(concat)\n",
    "dense1 = Dense(32, activation='relu')(dropout1)\n",
    "dropout2 = Dropout(0.3)(dense1)\n",
    "dense2 = Dense(16, activation='relu')(dropout2)                     \n",
    "dropout3 = Dropout(0.3)(dense2)     \n",
    "output = Dense(1, activation='sigmoid')(dropout3)\n",
    "\n",
    "CNN = Model(inputs=[combi_input], outputs=[output])\n",
    "CNN.compile(loss='binary_crossentropy',\n",
    "            optimizer=Adam(0.001),\n",
    "            metrics=['accuracy', AUC(name='auc'), Precision(name='precision') , Recall(name='recall')])\n",
    "CNN.summary()\n",
    "\n",
    "es = EarlyStopping(monitor='val_loss', \n",
    "               mode='min', \n",
    "               patience=10)\n",
    "\n",
    "mc = ModelCheckpoint('CNN_long.hdf5', \n",
    "                 monitor='val_loss',\n",
    "                 mode='min',\n",
    "                 verbose=1, \n",
    "                 save_best_only=True)\n",
    "callbacks = [es, mc]\n",
    "\n",
    "history = CNN.fit(X_train_concat, y_train,\n",
    "                    epochs=50,\n",
    "                    verbose=2,\n",
    "                    validation_split=0.2,\n",
    "                    batch_size=64,\n",
    "                 callbacks = callbacks)"
   ]
  },
  {
   "cell_type": "code",
   "execution_count": 31,
   "id": "75183a6b",
   "metadata": {},
   "outputs": [
    {
     "data": {
      "text/plain": [
       "<matplotlib.legend.Legend at 0x1eab8aecf40>"
      ]
     },
     "execution_count": 31,
     "metadata": {},
     "output_type": "execute_result"
    },
    {
     "data": {
      "image/png": "[encoded data removed]",
      "text/plain": [
       "<Figure size 1080x432 with 2 Axes>"
      ]
     },
     "metadata": {
      "needs_background": "light"
     },
     "output_type": "display_data"
    }
   ],
   "source": [
    "fig, (ax1, ax2) = plt.subplots(1, 2, figsize=(15, 6))\n",
    "fig.suptitle('CNN Performance - Long Reviews')\n",
    "\n",
    "ax1.plot(history.history['loss'], label='Loss (training data)')\n",
    "ax1.plot(history.history['val_loss'], label='Loss (validation data)')\n",
    "ax1.set_title('CNN Model for Long Reviews: Loss')\n",
    "ax1.set_ylabel('Loss')\n",
    "ax1.set_xlabel('No. epoch')\n",
    "ax1.legend(loc=\"upper right\")\n",
    "\n",
    "ax2.plot(history.history['accuracy'], label='Accuracy (training data)')\n",
    "ax2.plot(history.history['val_accuracy'], label='Accuracy (validation data)')\n",
    "ax2.set_title('CNN Model for Long Reviews: Accuracy')\n",
    "ax2.set_ylabel('Accuracy')\n",
    "ax2.set_xlabel('No. epoch')\n",
    "ax2.legend(loc=\"lower right\")"
   ]
  },
  {
   "cell_type": "code",
   "execution_count": 32,
   "id": "fab0e515",
   "metadata": {},
   "outputs": [
    {
     "name": "stdout",
     "output_type": "stream",
     "text": [
      "Training Accuracy:  99.0743%\n",
      "Precisiony: 99.8095%\n",
      "Recall: 98.9303%\n",
      "F1 Score: 99.3679%\n",
      "Area under Curve: 99.0778%\n"
     ]
    }
   ],
   "source": [
    "model = load_model('CNN_long.hdf5')\n",
    "\n",
    "loss, accuracy, precision, recall, auc = model.evaluate(X_train_concat, y_train, verbose=False)\n",
    "print(\"Training Accuracy:  {:.4f}%\".format(accuracy*100))\n",
    "print(\"Precisiony: {:.4f}%\".format(precision*100))\n",
    "print(\"Recall: {:.4f}%\".format(recall*100))\n",
    "f1 = 2*(precision*recall)/(precision+recall)\n",
    "print(\"F1 Score: {:.4f}%\".format(f1*100))\n",
    "print(\"Area under Curve: {:.4f}%\".format(auc*100))"
   ]
  },
  {
   "cell_type": "code",
   "execution_count": 33,
   "id": "144f033b",
   "metadata": {},
   "outputs": [
    {
     "name": "stdout",
     "output_type": "stream",
     "text": [
      "Testing Accuracy:  96.5995%\n",
      "Precisiony: 99.0973%\n",
      "Recall: 95.8064%\n",
      "F1 Score: 97.4241%\n",
      "Area under Curve: 96.9005%\n"
     ]
    }
   ],
   "source": [
    "loss, accuracy, precision, recall, auc = model.evaluate(X_test_concat, y_test, verbose=False)\n",
    "print(\"Testing Accuracy:  {:.4f}%\".format(accuracy*100))\n",
    "print(\"Precisiony: {:.4f}%\".format(precision*100))\n",
    "print(\"Recall: {:.4f}%\".format(recall*100))\n",
    "f1 = 2*(precision*recall)/(precision+recall)\n",
    "print(\"F1 Score: {:.4f}%\".format(f1*100))\n",
    "print(\"Area under Curve: {:.4f}%\".format(auc*100))"
   ]
  },
  {
   "cell_type": "code",
   "execution_count": null,
   "id": "ff81bc92",
   "metadata": {},
   "outputs": [],
   "source": []
  }
 ],
 "metadata": {
  "kernelspec": {
   "display_name": "Python 3 (ipykernel)",
   "language": "python",
   "name": "python3"
  },
  "language_info": {
   "codemirror_mode": {
    "name": "ipython",
    "version": 3
   },
   "file_extension": ".py",
   "mimetype": "text/x-python",
   "name": "python",
   "nbconvert_exporter": "python",
   "pygments_lexer": "ipython3",
   "version": "3.9.5"
  }
 },
 "nbformat": 4,
 "nbformat_minor": 5
}
