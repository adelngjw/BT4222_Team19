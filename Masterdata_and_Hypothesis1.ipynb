version https://git-lfs.github.com/spec/v1
oid sha256:cb821ee7f22ac44c52f88571d8551b1f097ae890efef15c839ee6a7a3bed18fc
size 1047682
