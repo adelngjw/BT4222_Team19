version https://git-lfs.github.com/spec/v1
oid sha256:b3ad7b8652b2f01ac01bff2fa1b81be6b55341802880bcc2d403733e8e46f4b4
size 276577
