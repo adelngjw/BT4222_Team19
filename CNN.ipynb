version https://git-lfs.github.com/spec/v1
oid sha256:bee36ee6f42541239889ebe525bfc9e97b9a7cb8f3b4fbec4393f379601a68bd
size 228699
